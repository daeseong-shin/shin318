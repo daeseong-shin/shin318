{
 "cells": [
  {
   "cell_type": "markdown",
   "metadata": {},
   "source": [
    "# Python 기초 문법(2)"
   ]
  },
  {
   "cell_type": "markdown",
   "metadata": {},
   "source": [
    "## 학습 목표\n",
    "- 사칙연산, 변수계산, 조건문 if, 반복문 for, 반복문 while, 함수등의 기초문법을 이해할 수 있다. \n",
    "- Python의 기본적인 문법을 살펴보고 실습을 통해 프로그래밍에 대해 자신감을 얻는다."
   ]
  },
  {
   "cell_type": "markdown",
   "metadata": {},
   "source": [
    "## 1.  If 조건문\n",
    "- 조건을 판단해서 각 상황에 맞게 처리\n",
    "- 주로 else(그렇지 않다면)와 함께 사용"
   ]
  },
  {
   "cell_type": "code",
   "execution_count": 2,
   "metadata": {},
   "outputs": [
    {
     "name": "stdout",
     "output_type": "stream",
     "text": [
      "택시타기\n"
     ]
    }
   ],
   "source": [
    "money = 2000\n",
    "if money == 1000:\n",
    "    print('버스타기')\n",
    "else:\n",
    "    print('택시타기')"
   ]
  },
  {
   "cell_type": "markdown",
   "metadata": {},
   "source": [
    "- if와 else 외에 elif 이용하기(나타내고 싶은 경우가 3가지 이상일 경우 → if, elif, elif..., else)"
   ]
  },
  {
   "cell_type": "code",
   "execution_count": 1,
   "metadata": {},
   "outputs": [],
   "source": [
    "# 가진 돈이 1000원 보다 많으면 택시타기, 1000원이면 버스타기, 1000원 보다 적으면 걸어가기를 if문으로 코딩해보면?(가진 돈: 1300원)"
   ]
  },
  {
   "cell_type": "code",
   "execution_count": 5,
   "metadata": {},
   "outputs": [
    {
     "name": "stdout",
     "output_type": "stream",
     "text": [
      "택시타자\n"
     ]
    }
   ],
   "source": [
    "money = 1300\n",
    "if money > 1000:\n",
    "    print('택시타자')\n",
    "elif money == 1000:\n",
    "    print('버스타기')\n",
    "else:\n",
    "    print('걸어가라')"
   ]
  },
  {
   "cell_type": "markdown",
   "metadata": {},
   "source": [
    "> **Q. 위에서 배운 것을 이용해서 나이를 말하면 10대, 20대, 30대, 40대, 50대 이상을 맞추는 프로그램을 짜보자. \n",
    "(e.g. 나이가 32살이면 30대라고 출력됨)**\n",
    "\n",
    ">> - e.g. 29살: 20대!\n",
    ">> - 여러 가지의 경우가 있을 때는 if..., elif..., 마지막에 else"
   ]
  },
  {
   "cell_type": "code",
   "execution_count": null,
   "metadata": {},
   "outputs": [],
   "source": [
    "# 해봅시다^^"
   ]
  },
  {
   "cell_type": "markdown",
   "metadata": {
    "nbpresent": {
     "id": "d84ec5c7-c998-42e5-865d-47ca6cca3512"
    }
   },
   "source": [
    "### 2) 들여쓰기(Indentation)"
   ]
  },
  {
   "cell_type": "markdown",
   "metadata": {
    "nbpresent": {
     "id": "cbbfc7cb-9e67-4a97-92d4-6cd6b958fd03"
    }
   },
   "source": [
    "- 들여쓰기는 함수 몸체, 조건문 루프, 클래스 등 다양한 코드 블록을 나타낸다.\n",
    "- 들여쓰기로 탭(tab)을 사용할 수 있지만 권장하지 않는다.\n",
    "- 스페이스(space) 4칸을 사용하는 것이 파이썬 커뮤니티에서 보편적으로 선호되고 권장하는 방식이다.\n",
    "- Python을 처음 접하는 사용자들은 익숙하지 않아서 들여쓰기에서 많은 에러가 발생한다."
   ]
  },
  {
   "cell_type": "code",
   "execution_count": 21,
   "metadata": {
    "nbpresent": {
     "id": "bbe23568-786c-4b27-86c8-b54f62b11554"
    }
   },
   "outputs": [
    {
     "ename": "IndentationError",
     "evalue": "unindent does not match any outer indentation level (<tokenize>, line 5)",
     "output_type": "error",
     "traceback": [
      "\u001b[1;36m  File \u001b[1;32m\"<tokenize>\"\u001b[1;36m, line \u001b[1;32m5\u001b[0m\n\u001b[1;33m    else:\u001b[0m\n\u001b[1;37m    ^\u001b[0m\n\u001b[1;31mIndentationError\u001b[0m\u001b[1;31m:\u001b[0m unindent does not match any outer indentation level\n"
     ]
    }
   ],
   "source": [
    "# 들여쓰기가 제멋대로인 경우 에러 발생\n",
    "my_age = 21\n",
    "if my_age >= 19:\n",
    "    print(\"당신은 성인입니다!\")\n",
    " else:\n",
    "    print(\"미성년자입니다!\")"
   ]
  },
  {
   "cell_type": "markdown",
   "metadata": {},
   "source": [
    "## 사용자 정의 함수"
   ]
  },
  {
   "cell_type": "markdown",
   "metadata": {},
   "source": [
    "- 목적: 코드 재사용과 반복작업(약간의 수정이라도 하게 될 경우)을 최소화 하기 위해"
   ]
  },
  {
   "cell_type": "markdown",
   "metadata": {},
   "source": [
    "### 1) 만드는 방법"
   ]
  },
  {
   "cell_type": "markdown",
   "metadata": {},
   "source": [
    "- 함수는 `def` 로 정의한다."
   ]
  },
  {
   "cell_type": "code",
   "execution_count": 4,
   "metadata": {},
   "outputs": [],
   "source": [
    "def sum(x, y, a):\n",
    "    return x + y + a"
   ]
  },
  {
   "cell_type": "code",
   "execution_count": 5,
   "metadata": {},
   "outputs": [
    {
     "name": "stdout",
     "output_type": "stream",
     "text": [
      "6\n"
     ]
    }
   ],
   "source": [
    "print(sum(1, 2, 3))"
   ]
  },
  {
   "cell_type": "code",
   "execution_count": 20,
   "metadata": {},
   "outputs": [],
   "source": [
    "# x와 y를 더해주는 add라는 함수를 만들어 봅시다."
   ]
  },
  {
   "cell_type": "code",
   "execution_count": 21,
   "metadata": {},
   "outputs": [
    {
     "name": "stdout",
     "output_type": "stream",
     "text": [
      "9\n"
     ]
    }
   ],
   "source": [
    "add(3, 6)"
   ]
  },
  {
   "cell_type": "code",
   "execution_count": 22,
   "metadata": {},
   "outputs": [],
   "source": [
    "def sum(a,b):\n",
    "    print(\"{}와 {}의 합은 {}입니다.\" .format (a, b, a+b)) "
   ]
  },
  {
   "cell_type": "code",
   "execution_count": 23,
   "metadata": {},
   "outputs": [
    {
     "name": "stdout",
     "output_type": "stream",
     "text": [
      "1와 3의 합은 4입니다.\n"
     ]
    }
   ],
   "source": [
    "sum (1,3)"
   ]
  },
  {
   "cell_type": "code",
   "execution_count": 24,
   "metadata": {},
   "outputs": [
    {
     "name": "stdout",
     "output_type": "stream",
     "text": [
      "12\n",
      "24\n"
     ]
    }
   ],
   "source": [
    "def multiply(a,b):\n",
    "    c = a * b            # 곱의 함수를 만들어서 c에 저장\n",
    "    return c\n",
    "\n",
    "print(multiply(3,4))\n",
    "print(multiply(4,6))"
   ]
  },
  {
   "cell_type": "code",
   "execution_count": 7,
   "metadata": {
    "scrolled": true
   },
   "outputs": [],
   "source": [
    "# if문을 이용해 숫자의 부호를 판정해 주는 sign이라는 함수를 만들고 난 후 range(-3, 3)에 만든 함수 적용해 보기\n"
   ]
  },
  {
   "cell_type": "markdown",
   "metadata": {},
   "source": [
    "> **Q. 미국에 있는 주(State)의 수도는 무엇인지 출력하는 함수 `find_capital`를 만들어보세요.**"
   ]
  },
  {
   "cell_type": "code",
   "execution_count": null,
   "metadata": {},
   "outputs": [],
   "source": [
    "# 미국의 주의 수도를 찾는 함수를 만드세요.\n",
    "STATES_CAPITALS = {\n",
    "    'Alabama': 'Montgomery',\n",
    "    'Alaska': 'Juneau',\n",
    "    'Arizona': 'Phoenix',\n",
    "    'Wyoming': 'Cheyenne',\n",
    "}\n",
    "\n",
    "# 여기에 코드를 작성하세요."
   ]
  }
 ],
 "metadata": {
  "kernelspec": {
   "display_name": "Python 3",
   "language": "python",
   "name": "python3"
  },
  "language_info": {
   "codemirror_mode": {
    "name": "ipython",
    "version": 3
   },
   "file_extension": ".py",
   "mimetype": "text/x-python",
   "name": "python",
   "nbconvert_exporter": "python",
   "pygments_lexer": "ipython3",
   "version": "3.8.5"
  }
 },
 "nbformat": 4,
 "nbformat_minor": 2
}
