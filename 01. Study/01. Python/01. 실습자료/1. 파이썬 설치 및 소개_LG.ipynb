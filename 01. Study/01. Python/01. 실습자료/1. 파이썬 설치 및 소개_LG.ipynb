{
 "cells": [
  {
   "cell_type": "markdown",
   "metadata": {},
   "source": [
    "# Python 기초 내용"
   ]
  },
  {
   "cell_type": "markdown",
   "metadata": {},
   "source": [
    "## 학습목표\n",
    "- 파이썬의 필요성을 정리하고 이해한다.\n",
    "- 프로그래밍의 개념을 파악하고 클래스와 객체의 의미를 이해한다."
   ]
  },
  {
   "cell_type": "markdown",
   "metadata": {},
   "source": [
    "---"
   ]
  },
  {
   "cell_type": "code",
   "execution_count": 1,
   "metadata": {},
   "outputs": [],
   "source": [
    "from IPython.display import Image"
   ]
  },
  {
   "cell_type": "markdown",
   "metadata": {
    "nbpresent": {
     "id": "dcceb844-fb8e-44a3-89b6-747390c7fbbf"
    }
   },
   "source": [
    "# 1. Data Science"
   ]
  },
  {
   "cell_type": "markdown",
   "metadata": {
    "nbpresent": {
     "id": "110407cb-880a-4bb5-8dbf-210b06a3da6a"
    }
   },
   "source": [
    "### 1) 정의"
   ]
  },
  {
   "cell_type": "markdown",
   "metadata": {
    "nbpresent": {
     "id": "571c06ad-e8dc-4905-b9f1-6a83eca63e72"
    }
   },
   "source": [
    "데이터를 단순히 분류하거나 분석하는 것 말고 **데이터 속에 담긴 패턴이나 미래 예측에 도움이 되는 신호를 찾는 것**을 말합니다."
   ]
  },
  {
   "cell_type": "markdown",
   "metadata": {
    "nbpresent": {
     "id": "1bdfc7c7-6a58-4c48-9b36-1536758e8fd6"
    }
   },
   "source": [
    "### 2) Skillset"
   ]
  },
  {
   "cell_type": "code",
   "execution_count": 2,
   "metadata": {
    "nbpresent": {
     "id": "4d1cf9fb-653e-4106-b552-98fbc5f6c05d"
    }
   },
   "outputs": [
    {
     "data": {
      "text/html": [
       "<img src=\"https://t1.daumcdn.net/cfile/tistory/995A6D3A5E0F882705\"/>"
      ],
      "text/plain": [
       "<IPython.core.display.Image object>"
      ]
     },
     "execution_count": 2,
     "metadata": {},
     "output_type": "execute_result"
    }
   ],
   "source": [
    "Image(url='https://t1.daumcdn.net/cfile/tistory/995A6D3A5E0F882705')"
   ]
  },
  {
   "cell_type": "markdown",
   "metadata": {},
   "source": [
    "[American Data Scientist, Drew Conway, 2013](http://drewconway.com/zia/2013/3/26/the-data-science-venn-diagram)"
   ]
  },
  {
   "cell_type": "markdown",
   "metadata": {},
   "source": [
    "### 3) Data Scientist vs Data Analyst"
   ]
  },
  {
   "cell_type": "code",
   "execution_count": 6,
   "metadata": {},
   "outputs": [
    {
     "data": {
      "text/html": [
       "<img src=\"https://miro.medium.com/max/1046/0*9JDhzyh1b5baOWW1.png\"/>"
      ],
      "text/plain": [
       "<IPython.core.display.Image object>"
      ]
     },
     "execution_count": 6,
     "metadata": {},
     "output_type": "execute_result"
    }
   ],
   "source": [
    "Image(url='https://miro.medium.com/max/1046/0*9JDhzyh1b5baOWW1.png')"
   ]
  },
  {
   "cell_type": "markdown",
   "metadata": {
    "nbpresent": {
     "id": "c91d0201-6981-4f02-98c6-291ea8a50268"
    }
   },
   "source": [
    "https://data-flair.training/blogs/data-scientist-vs-data-analyst/"
   ]
  },
  {
   "cell_type": "markdown",
   "metadata": {
    "nbpresent": {
     "id": "725e2628-3a95-4338-ad11-ee6027aa6579"
    }
   },
   "source": [
    "---"
   ]
  },
  {
   "cell_type": "markdown",
   "metadata": {},
   "source": [
    "---"
   ]
  },
  {
   "cell_type": "markdown",
   "metadata": {},
   "source": [
    "# 2. Python의 다양한 활용"
   ]
  },
  {
   "cell_type": "markdown",
   "metadata": {
    "nbpresent": {
     "id": "24f6d527-c63a-4a0d-9bd8-1fc87dda87ff"
    }
   },
   "source": [
    "###  1) Data Science에서 Python은 어떻게 활용되는가"
   ]
  },
  {
   "cell_type": "code",
   "execution_count": 9,
   "metadata": {
    "nbpresent": {
     "id": "189bc910-0283-46cb-8d1a-585b00898f1e"
    }
   },
   "outputs": [
    {
     "data": {
      "text/html": [
       "<img src=\"https://image.slidesharecdn.com/bigdataanalysisinpython-130525214135-phpapp02/95/big-data-analysis-in-python-pycontw-2013-3-638.jpg?cb=1369536724\"/>"
      ],
      "text/plain": [
       "<IPython.core.display.Image object>"
      ]
     },
     "execution_count": 9,
     "metadata": {},
     "output_type": "execute_result"
    }
   ],
   "source": [
    "Image(url='https://image.slidesharecdn.com/bigdataanalysisinpython-130525214135-phpapp02/95/big-data-analysis-in-python-pycontw-2013-3-638.jpg?cb=1369536724')"
   ]
  },
  {
   "cell_type": "markdown",
   "metadata": {
    "nbpresent": {
     "id": "974bd040-9ed2-42b1-95d4-ee56b30787e8"
    }
   },
   "source": [
    "### 2) Python 관련 현황"
   ]
  },
  {
   "cell_type": "markdown",
   "metadata": {
    "nbpresent": {
     "id": "765140af-b8b6-4bf5-be0f-26e59dbdf718"
    }
   },
   "source": [
    "### 1) Kaggle"
   ]
  },
  {
   "cell_type": "markdown",
   "metadata": {
    "nbpresent": {
     "id": "2be257e1-1dc1-4da7-961e-392f027a0224"
    }
   },
   "source": [
    "- 호주 맬버른 기반 스타트업, Platform\n",
    "- 데이터 과학자들이 머신러닝을 이용해 주어진 과제를 푸는 콘테스트 사이트 (http://www.kaggle.com/)\n",
    "- 캐글을 이용하는 데이터 전문가는 60만 명 (2017년 3월) → 등록 이용자 500만 명(21년 7월)\n",
    "- [구글의 캐글(Kaggle) 인수, AI 분야에 미칠 영향은?](http://www.ciokorea.com/news/33510) (2017년 3월)"
   ]
  },
  {
   "cell_type": "markdown",
   "metadata": {
    "nbpresent": {
     "id": "4a03b9e4-03e8-438a-bda8-4b1e4a7f199f"
    }
   },
   "source": [
    "출처: https://www.kaggle.com/surveys/2017?utm_medium=blog&utm_source=nofreehunch&utm_campaign=EOY+mailer+2017"
   ]
  },
  {
   "cell_type": "markdown",
   "metadata": {
    "nbpresent": {
     "id": "8b633377-6aa7-4358-ab6e-f75d0a0af6dc"
    }
   },
   "source": [
    "#### 2017년 Data Science 분야에서 가장 많이 사용하는 Tool"
   ]
  },
  {
   "cell_type": "code",
   "execution_count": 10,
   "metadata": {
    "nbpresent": {
     "id": "755a14a3-a3c3-422b-a945-459fd5b56576"
    },
    "scrolled": false
   },
   "outputs": [
    {
     "data": {
      "text/html": [
       "<img src=\"https://cdn-images-1.medium.com/max/800/1*jnZT4gFAzScOJ_VnYsni0g.png\"/>"
      ],
      "text/plain": [
       "<IPython.core.display.Image object>"
      ]
     },
     "execution_count": 10,
     "metadata": {},
     "output_type": "execute_result"
    }
   ],
   "source": [
    "Image(url='https://cdn-images-1.medium.com/max/800/1*jnZT4gFAzScOJ_VnYsni0g.png')"
   ]
  },
  {
   "cell_type": "markdown",
   "metadata": {
    "nbpresent": {
     "id": "da2ab80b-c60d-4972-a6c6-e8fccbc01d21"
    }
   },
   "source": [
    "> #### Python과 R은 주로 누가 쓸까?\n",
    "> - Python: Engineer/Machine Learning Engineer/Software Developer/Data Scientist/Comuputer Scientist\n",
    "> - R: Statistician/Data Analyst/Business Analyst"
   ]
  },
  {
   "cell_type": "markdown",
   "metadata": {},
   "source": [
    "#### 데이터 과학자로서 처음으로 배우기에 추천하는 Language by Kaggle"
   ]
  },
  {
   "cell_type": "code",
   "execution_count": 12,
   "metadata": {},
   "outputs": [
    {
     "data": {
      "text/html": [
       "<img src=\"http://businessoverbroadway.com/wp-content/uploads/2019/01/programming_languages_recommended.png\"/>"
      ],
      "text/plain": [
       "<IPython.core.display.Image object>"
      ]
     },
     "execution_count": 12,
     "metadata": {},
     "output_type": "execute_result"
    }
   ],
   "source": [
    "Image(url='http://businessoverbroadway.com/wp-content/uploads/2019/01/programming_languages_recommended.png')"
   ]
  },
  {
   "cell_type": "markdown",
   "metadata": {
    "nbpresent": {
     "id": "edec7ea6-c21a-407a-8b10-d05f4489cc5f"
    }
   },
   "source": [
    "### 2) Python 개발자 설문조사 (by JetBrains)"
   ]
  },
  {
   "cell_type": "markdown",
   "metadata": {
    "nbpresent": {
     "id": "15036889-505e-4cf7-9863-95c93047ffce"
    }
   },
   "source": [
    "- 2000년에 설립된 체코 회사\n",
    "- 통합 개발 환경 프로그램을 만드는 소프트웨어 회사, Python 세계에서는 PyCharm 이라는 인기있는 IDE를 만들었다."
   ]
  },
  {
   "cell_type": "markdown",
   "metadata": {
    "nbpresent": {
     "id": "505e6390-705e-49e7-b9eb-fd0838ada1dd"
    }
   },
   "source": [
    "출처: https://www.jetbrains.com/research/python-developers-survey-2017/"
   ]
  },
  {
   "cell_type": "markdown",
   "metadata": {
    "nbpresent": {
     "id": "8ca2e2fd-760a-46ca-898f-642b82da93f7"
    }
   },
   "source": [
    "#### Python으로 개발하는 분야"
   ]
  },
  {
   "cell_type": "markdown",
   "metadata": {
    "nbpresent": {
     "id": "28f3ad3d-cd3a-424a-9168-25c8bf85650e"
    }
   },
   "source": [
    "#### Data Scientist들이 주로 사용하는 Library"
   ]
  },
  {
   "cell_type": "markdown",
   "metadata": {
    "nbpresent": {
     "id": "02b29fb5-5fc4-4f36-acec-5c9349c3612d"
    }
   },
   "source": [
    "#### Data Scientist들이 추가적으로 사용하는 기술들"
   ]
  },
  {
   "cell_type": "markdown",
   "metadata": {},
   "source": [
    "---"
   ]
  },
  {
   "cell_type": "markdown",
   "metadata": {
    "nbpresent": {
     "id": "f07bcce4-19d4-4e45-a8eb-667faee5e150"
    }
   },
   "source": [
    "# 3. Python 역사 및 Trend"
   ]
  },
  {
   "cell_type": "markdown",
   "metadata": {},
   "source": [
    "## 3.1 역사"
   ]
  },
  {
   "cell_type": "markdown",
   "metadata": {
    "nbpresent": {
     "id": "03ada8b6-7311-4010-8384-545741e845d2"
    }
   },
   "source": [
    "- 1991년 네덜랜드 국립 연구소의 Guido Van Rossum에 의해 발표 (현 2018년, 27년의 역사)\n",
    "- “Python“이라는 이름은 코메디 프로그램 “Monty Python’s Flying Circus”에서 유래\n",
    "- Python의 원래 의미는 그리스 신화에 나오는 거대한 뱀\n",
    "- 2000년 Python 2 발표\n",
    "- 2008년 Python 3 발표\n",
    "    - Python 2의 경우 2020년까지만 Maintenance가 이루어질 예정"
   ]
  },
  {
   "cell_type": "markdown",
   "metadata": {
    "nbpresent": {
     "id": "3b9f1cdf-a730-45d6-a8d9-590f9a14ad7d"
    }
   },
   "source": [
    "## 3.2 Trend"
   ]
  },
  {
   "cell_type": "markdown",
   "metadata": {
    "nbpresent": {
     "id": "03ae1b5d-710c-4870-8301-4863b5dd8b57"
    }
   },
   "source": [
    "### Google Trend: 2009년 ~ 2017년 Python 검색 추이"
   ]
  },
  {
   "cell_type": "code",
   "execution_count": 13,
   "metadata": {
    "nbpresent": {
     "id": "42a885d5-32cc-4b32-b988-014f7ccb827f"
    }
   },
   "outputs": [
    {
     "data": {
      "text/html": [
       "<img src=\"https://datacareergermany.mysmartjobboard.com/files/userfiles/blogR1.png\"/>"
      ],
      "text/plain": [
       "<IPython.core.display.Image object>"
      ]
     },
     "execution_count": 13,
     "metadata": {},
     "output_type": "execute_result"
    }
   ],
   "source": [
    "Image(url='https://datacareergermany.mysmartjobboard.com/files/userfiles/blogR1.png')"
   ]
  },
  {
   "cell_type": "markdown",
   "metadata": {
    "nbpresent": {
     "id": "eedc222e-32b8-496b-942e-30fd9f024453"
    }
   },
   "source": [
    "---"
   ]
  },
  {
   "cell_type": "markdown",
   "metadata": {},
   "source": [
    "## 3.3 Python으로 할 수 있는 것 vs 할 수 없는 것"
   ]
  },
  {
   "cell_type": "markdown",
   "metadata": {},
   "source": [
    "### 1) 할 수 있는 것"
   ]
  },
  {
   "cell_type": "markdown",
   "metadata": {},
   "source": [
    " - 시스템 유틸리티 제작; 컴퓨터 사용에 도움을 주는 여러 소프트웨어\n",
    " - GUI(Graphic User Interface) 프로그래밍; 화면창/메뉴/버튼...\n",
    " - 웹 프로그래밍; 게시판이나 방명록 등 제작\n",
    " - 수치 연산 프로그래밍; NumPy\n",
    " - 데이터베이스 프로그래밍\n",
    " - 데이터 분석; Pandas"
   ]
  },
  {
   "cell_type": "markdown",
   "metadata": {},
   "source": [
    "### 2) (아직) 할 수 없는 것"
   ]
  },
  {
   "cell_type": "markdown",
   "metadata": {},
   "source": [
    " - 시스템과 밀접한 프로그래밍; 운영체제나 엄청난 반복과 연산이 필요한 프로그램, 매우 빠른 속도/하드웨어 제어 등을 하는 프로그램\n",
    " - 모바일 프로그래밍; 안드로이드 앱 개발"
   ]
  },
  {
   "cell_type": "markdown",
   "metadata": {
    "nbpresent": {
     "id": "2bb70995-daa5-4a3e-8ebe-e25821189962"
    }
   },
   "source": [
    "# 4. Python 설치"
   ]
  },
  {
   "cell_type": "markdown",
   "metadata": {
    "nbpresent": {
     "id": "db98a4e3-c3c8-48fe-955b-d0a980a9ff91"
    }
   },
   "source": [
    "- http://www.python.org\n",
    "- Anaconda (Python 배포판) (https://www.anaconda.com/products/individual#download-section)"
   ]
  },
  {
   "cell_type": "markdown",
   "metadata": {},
   "source": [
    "- 설치 확인은 '시작'에서 Anaconda 확인"
   ]
  },
  {
   "cell_type": "markdown",
   "metadata": {},
   "source": [
    "## 4.1 Python을 이용한 프로그래밍 기초"
   ]
  },
  {
   "cell_type": "markdown",
   "metadata": {},
   "source": [
    "### 1) 프로그래밍"
   ]
  },
  {
   "cell_type": "code",
   "execution_count": 5,
   "metadata": {},
   "outputs": [],
   "source": [
    "from IPython.lib.display import YouTubeVideo"
   ]
  },
  {
   "cell_type": "code",
   "execution_count": 6,
   "metadata": {},
   "outputs": [
    {
     "data": {
      "image/jpeg": "[encoded data removed]",
      "text/html": [
       "\n",
       "        <iframe\n",
       "            width=\"700\"\n",
       "            height=\"450\"\n",
       "            src=\"https://www.youtube.com/embed/I5cq54MFQCo\"\n",
       "            frameborder=\"0\"\n",
       "            allowfullscreen\n",
       "            \n",
       "        ></iframe>\n",
       "        "
      ],
      "text/plain": [
       "<IPython.lib.display.YouTubeVideo at 0x2599e247d30>"
      ]
     },
     "execution_count": 6,
     "metadata": {},
     "output_type": "execute_result"
    }
   ],
   "source": [
    "YouTubeVideo(\"I5cq54MFQCo\", width=700, height=450)"
   ]
  },
  {
   "cell_type": "markdown",
   "metadata": {},
   "source": [
    "아침에 자고 있는 아들을 깨우는 프로그램을 로봇에게 입력한다면?\n",
    "\n",
    "1. 거실 화장실 맞은 편, 왼쪽으로 첫 번째에 위치한 문의 문고리 오른 쪽을 아래로 누르면서 살짝 젖히시오.  \n",
    "2. 방안으로 들어가 침대에 누워있는 사람을 향해 '일어나세요'라고 소리치시오.\n",
    "3. 아무런 미동이 없을 경우 다시 한 번 '일어나세요'라고 소리치고 현재 시각을 말해 주시오.\n",
    "4. 그래도 일어나지 않을 경우에는 누워 있는 사람에게 가까이 다가가 덮고 있는 이불의 한 쪽 끝을 잡고 이불이 찢어지지 않을 정도로 \n",
    "   힘조절을 하면서 힘껏 왼쪽으로 당기시오.\n",
    "5. 그래도 일어나지 않을 경우는 누워 있는 사람의 오른 쪽 다리의 종아리를 잡고 좌우로 1초에 2회씩 좌우로 흔드시오.\n",
    "6. 그래도 일어나지 않을 경우는 누워 있는 사람의 얼굴, 가슴, 배가 천장을 향하도록 하고 누워 있는 사람의 양쪽 팔목을 잡고 \n",
    "   그 사람이 아프다는 말을 하지 않을 정도의 힘으로 일으켜 세우시오.\n",
    "7. 그래도 그 사람이 눈을 뜨지 않거나 다시 누으려고 하면 발로 뼈가 부러지지 않을 정도의 힘으로 엉덩이를 차주시오."
   ]
  },
  {
   "cell_type": "markdown",
   "metadata": {},
   "source": [
    "- 컴퓨터에게 어떤 일을 시킬 때도 위와 같은 형태로 **지시 내용을 나열**\n",
    "- 이처럼 명령어가 나열된 것을 **프로그램**이라고 하며, 프로그램을 작성하는 행위를 **프로그래밍**이라고 함"
   ]
  },
  {
   "cell_type": "markdown",
   "metadata": {
    "nbpresent": {
     "id": "b0a095d7-ab74-4b81-8318-a6dd3f457d76"
    }
   },
   "source": [
    "### 2) 패키지 > 모듈 > 함수"
   ]
  },
  {
   "cell_type": "code",
   "execution_count": 18,
   "metadata": {},
   "outputs": [],
   "source": [
    "# from 패키지.모듈 import 함수\n",
    "from numpy.random import randint"
   ]
  },
  {
   "cell_type": "code",
   "execution_count": 18,
   "metadata": {
    "scrolled": true
   },
   "outputs": [
    {
     "data": {
      "text/plain": [
       "array([[1665, 1474, 1988, 1188],\n",
       "       [1771, 1814, 1217, 1370],\n",
       "       [1689, 1787, 1094, 1232],\n",
       "       [1527, 1701, 1736, 1883],\n",
       "       [1145, 1647, 1912, 1193],\n",
       "       [1990, 1725, 1063, 1830],\n",
       "       [1716, 1005, 1785, 1395]])"
      ]
     },
     "execution_count": 18,
     "metadata": {},
     "output_type": "execute_result"
    }
   ],
   "source": [
    "randint(1000, 2000, size=(7, 4))"
   ]
  },
  {
   "cell_type": "markdown",
   "metadata": {
    "nbpresent": {
     "id": "0341792b-e7d1-4ada-8590-22d4684b00c0"
    }
   },
   "source": [
    "- 패키지: 디렉토리\n",
    "- 모듈: 파일(확장자: py)\n",
    "- 클래스|함수|변수: 모듈 안의 객체\n",
    "- 점(.)으로 접근"
   ]
  },
  {
   "cell_type": "markdown",
   "metadata": {
    "nbpresent": {
     "id": "63df32b2-4005-4a92-8a86-20d7e8c92010"
    }
   },
   "source": [
    "- 보통은 변수를 선언할 때 앞에 붙여 사용\n",
    "- ex) `int num = 10;`\n",
    "- ex) C, C#, C++, Java\n",
    "- 이렇게 미리 선언하는 방식을 정적 타입이라 함\n",
    "\n",
    "\n",
    "- 그러나 Python은 타입을 지정하지 않아도 됨\n",
    "- ex) `num = 10`\n",
    "- ex) JavaScript, Ruby, Python"
   ]
  },
  {
   "cell_type": "markdown",
   "metadata": {
    "nbpresent": {
     "id": "73fafab9-f9b1-4ca9-bbac-d08cec40364f"
    }
   },
   "source": [
    "### 파이썬의 모든 것은 객체 ⭐️"
   ]
  },
  {
   "cell_type": "markdown",
   "metadata": {},
   "source": [
    "### 3) 객체와 클래스"
   ]
  },
  {
   "cell_type": "markdown",
   "metadata": {
    "nbpresent": {
     "id": "bf75f8a4-db2c-4f36-8699-5030251286cf"
    }
   },
   "source": [
    "- 파이썬 프로그램에서 모든 데이터는 객체(object)라는 개념을 사용하여 저장\n",
    "- 가장 기본이 되는 데이터 타입인 숫자, 문자열, 리스트, 사전은 모두 객체\n",
    "- 이를 더 잘 이해하기 위해선 객체지향프로그래밍을 이해할 필요가 있음\n",
    "- 객체를 만드는 것은 클래스\n",
    "- **클래스 = 속성 + 행동**\n",
    "- Object-Oriented Programming(객체지향프로그래밍, OOP)에서 객체는 바로 클래스를 통해 만들 수 있음"
   ]
  },
  {
   "cell_type": "markdown",
   "metadata": {},
   "source": [
    ">- 사람: 클래스(Class)\n",
    ">- 홍길동: 객체(Object)"
   ]
  },
  {
   "cell_type": "markdown",
   "metadata": {},
   "source": [
    "> #### Python 기본 함수 맛보기"
   ]
  },
  {
   "cell_type": "code",
   "execution_count": 1,
   "metadata": {
    "nbpresent": {
     "id": "74b8bf1d-0574-4d61-b833-1fc6f9f9f475"
    }
   },
   "outputs": [],
   "source": [
    "# a라는 객체를 만들고 1이라는 속성 값을 할당해 봅시다.\n"
   ]
  },
  {
   "cell_type": "code",
   "execution_count": 1,
   "metadata": {},
   "outputs": [],
   "source": [
    "# a라는 객체의 타입을 알아 봅시다.\n"
   ]
  },
  {
   "cell_type": "code",
   "execution_count": 2,
   "metadata": {},
   "outputs": [],
   "source": [
    "# a 값을 프린터해 봅시다."
   ]
  },
  {
   "cell_type": "markdown",
   "metadata": {},
   "source": [
    "---"
   ]
  }
 ],
 "metadata": {
  "kernelspec": {
   "display_name": "Python 3 (ipykernel)",
   "language": "python",
   "name": "python3"
  },
  "language_info": {
   "codemirror_mode": {
    "name": "ipython",
    "version": 3
   },
   "file_extension": ".py",
   "mimetype": "text/x-python",
   "name": "python",
   "nbconvert_exporter": "python",
   "pygments_lexer": "ipython3",
   "version": "3.9.13"
  }
 },
 "nbformat": 4,
 "nbformat_minor": 2
}
