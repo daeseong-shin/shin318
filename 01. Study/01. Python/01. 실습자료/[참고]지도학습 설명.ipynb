{
 "cells": [
  {
   "cell_type": "markdown",
   "metadata": {},
   "source": [
    "# 지도 학습\n",
    "\n",
    "- 머신러닝의 방법 중 가장 기본적인 방법으로 분류(Classification)와 회귀(Regression)가 대표적\n",
    "- 분류: 이진 분류(e.g. 성공/실패), 다중 분류(e.g. 붓꽃 분류)\n",
    "- 회귀: 연속된 값에 대한 예측에 주로 활용"
   ]
  },
  {
   "cell_type": "markdown",
   "metadata": {},
   "source": [
    "## 분류 vs 회귀\n",
    "\n",
    "- 분류(그룹이 정해짐): 이진 분류/다중 분류\n",
    "- 회귀(중간 값이 존재): 선형 회귀/로지스틱 회귀\n",
    "- 회귀의 예: 연간소득(교육수준, 나이 등) 예측, 수확량(날씨, 인력 수, 비료량 등) 예측\n",
    "- 회귀의 경우 예측 값의 미묘한 차이는 크게 중요하지 않음"
   ]
  },
  {
   "cell_type": "code",
   "execution_count": 11,
   "metadata": {},
   "outputs": [],
   "source": [
    "%matplotlib inline\n",
    "from mglearn import *"
   ]
  },
  {
   "cell_type": "code",
   "execution_count": 12,
   "metadata": {},
   "outputs": [],
   "source": [
    "from IPython.display import Image"
   ]
  },
  {
   "cell_type": "code",
   "execution_count": 13,
   "metadata": {},
   "outputs": [
    {
     "data": {
      "text/html": [
       "<img src=\"https://image.slidesharecdn.com/aa-190217131507/95/blt-201902v1-30-638.jpg?cb=1566438712\"/>"
      ],
      "text/plain": [
       "<IPython.core.display.Image object>"
      ]
     },
     "execution_count": 13,
     "metadata": {},
     "output_type": "execute_result"
    }
   ],
   "source": [
    "Image(url='https://image.slidesharecdn.com/aa-190217131507/95/blt-201902v1-30-638.jpg?cb=1566438712')"
   ]
  },
  {
   "cell_type": "markdown",
   "metadata": {},
   "source": [
    "## 일반화, 과대적합, 과소적합\n",
    "\n",
    "- 데이터 모델링에서 가장 중요한 개념\n",
    "- 일반화(Generalization): 새로운 임의의 데이터에도 잘 들어맞는 모델의 성격\n",
    "- 과소적합(Underfitting): 모델이 너무 단순해 성능이 제대로 안나옴\n",
    "- 과소적합은 모델이 데이터의 패턴을 잘 따라가지 못하는 상태를 말함\n",
    "- 과대적합(Overfitting): 훈련 데이터에만 잘 들어맞는 상태\n",
    "- 모델이 Train data에 대해서만 잘 동작하도록 훈련되어 새로운 데이터에 대해서는 제대로 작동하지 않음\n",
    "- 과대적합된 모델은 훈련 데이터에 대한 설명력은 높지만 일반성이 낮음\n",
    "- 머신러닝에서는 과소/과대적합 문제를 잘 해결할 수 있는 모델을 만드는 것이 핵심 --> 모델의 일반화(Generalization)\n",
    "- 출처: https://brunch.co.kr/@gimmesilver"
   ]
  },
  {
   "cell_type": "code",
   "execution_count": 14,
   "metadata": {},
   "outputs": [
    {
     "data": {
      "text/html": [
       "<img src=\"https://t1.daumcdn.net/thumb/R720x0/?fname=http://t1.daumcdn.net/brunch/service/user/Jr9/image/SbI5NgVY5ZLzvG6QCT8hUcC00lA.jpg\"/>"
      ],
      "text/plain": [
       "<IPython.core.display.Image object>"
      ]
     },
     "execution_count": 14,
     "metadata": {},
     "output_type": "execute_result"
    }
   ],
   "source": [
    "Image(url='https://t1.daumcdn.net/thumb/R720x0/?fname=http://t1.daumcdn.net/brunch/service/user/Jr9/image/SbI5NgVY5ZLzvG6QCT8hUcC00lA.jpg')"
   ]
  },
  {
   "cell_type": "markdown",
   "metadata": {},
   "source": [
    "- 그렇다고 해서 과소적합과 과대적합의 문제가 모델의 복잡도만으로 결정되는 것은 결코 아님\n",
    "- 파라미터의 조정 등을 통해 모델의 복잡도를 개선하면 무조건 최상의 모델을 개발할 수 있는 것은 아님"
   ]
  },
  {
   "cell_type": "code",
   "execution_count": 15,
   "metadata": {
    "collapsed": true
   },
   "outputs": [
    {
     "data": {
      "text/html": [
       "<img src=\"https://t2.daumcdn.net/thumb/R720x0/?fname=http://t1.daumcdn.net/brunch/service/user/Jr9/image/n55a5fhWRNACwZ6_joGkPxApz2o.png\"/>"
      ],
      "text/plain": [
       "<IPython.core.display.Image object>"
      ]
     },
     "execution_count": 15,
     "metadata": {},
     "output_type": "execute_result"
    }
   ],
   "source": [
    "Image(url='https://t2.daumcdn.net/thumb/R720x0/?fname=http://t1.daumcdn.net/brunch/service/user/Jr9/image/n55a5fhWRNACwZ6_joGkPxApz2o.png')"
   ]
  },
  {
   "cell_type": "markdown",
   "metadata": {},
   "source": [
    "- 모델의 복잡도 보다는 오히려 분석하는 데이터의 상태, 즉 데이터의 질이 얼마나 되는지를 우선 확인\n",
    "- 훈련(학습) 데이터가 충분히 분석 대상을 설명할 수 있는 정보를 가지고 있는가가 중요"
   ]
  },
  {
   "cell_type": "code",
   "execution_count": 16,
   "metadata": {
    "collapsed": true
   },
   "outputs": [
    {
     "data": {
      "text/html": [
       "<img src=\"https://t3.daumcdn.net/thumb/R720x0/?fname=http://t1.daumcdn.net/brunch/service/user/Jr9/image/8Jx-vjq3Vb13HPt9O8nYqCY9HSI.png\"/>"
      ],
      "text/plain": [
       "<IPython.core.display.Image object>"
      ]
     },
     "execution_count": 16,
     "metadata": {},
     "output_type": "execute_result"
    }
   ],
   "source": [
    "Image(url='https://t3.daumcdn.net/thumb/R720x0/?fname=http://t1.daumcdn.net/brunch/service/user/Jr9/image/8Jx-vjq3Vb13HPt9O8nYqCY9HSI.png')"
   ]
  },
  {
   "cell_type": "markdown",
   "metadata": {},
   "source": [
    "- 과소적합(Underfitting): 분석 대상을 설명하는데 필요한 충분한 신호(Signal)를 가지고 있지 않음\n",
    "- 과대적합(Overfitting): 분석 대상을 설명하는데 불필요한 잡음(Noise)이 너무 많음"
   ]
  },
  {
   "cell_type": "markdown",
   "metadata": {},
   "source": [
    "## 해결방법\n",
    "\n",
    "- 과대적합은 주로 훈련 데이터의 수가 적을 경우 발생할 가능성이 높아 훈련 데이터의 양을 충분히 확보\n",
    "- 학습할 데이터가 부족하다면 모델의 구조를 단순하게 만들 필요성이 있음\n",
    "- 모델의 일반화를 위해 모델 기능을 제한하는 것을 규제화(Regulation)라고 함\n",
    "- 데이터의 양이 많으면 일반화에 분명히 일반화에 도움이 되지만 표본의 대표성(Representativeness)을 충분히 고려해야 함"
   ]
  },
  {
   "cell_type": "code",
   "execution_count": 18,
   "metadata": {
    "collapsed": true
   },
   "outputs": [
    {
     "data": {
      "text/html": [
       "<img src=\"https://tensorflowkorea.files.wordpress.com/2017/06/fig2-01.png?w=625\"/>"
      ],
      "text/plain": [
       "<IPython.core.display.Image object>"
      ]
     },
     "execution_count": 18,
     "metadata": {},
     "output_type": "execute_result"
    }
   ],
   "source": [
    "Image(url='https://tensorflowkorea.files.wordpress.com/2017/06/fig2-01.png?w=625')"
   ]
  },
  {
   "cell_type": "markdown",
   "metadata": {},
   "source": [
    "## 지도학습의 목적\n",
    "\n",
    "- 머신러닝에서는 과소적합과 과대적합을 모두 피해야 하며 최적의 예측을 수행할 수 있는 모델을 만드는 것이 가장 중요"
   ]
  },
  {
   "cell_type": "code",
   "execution_count": null,
   "metadata": {},
   "outputs": [],
   "source": []
  }
 ],
 "metadata": {
  "kernelspec": {
   "display_name": "Python 3",
   "language": "python",
   "name": "python3"
  },
  "language_info": {
   "codemirror_mode": {
    "name": "ipython",
    "version": 3
   },
   "file_extension": ".py",
   "mimetype": "text/x-python",
   "name": "python",
   "nbconvert_exporter": "python",
   "pygments_lexer": "ipython3",
   "version": "3.7.6"
  }
 },
 "nbformat": 4,
 "nbformat_minor": 4
}
